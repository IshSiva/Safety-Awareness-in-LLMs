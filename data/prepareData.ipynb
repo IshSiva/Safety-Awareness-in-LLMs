{
 "cells": [
  {
   "cell_type": "code",
   "execution_count": 2,
   "metadata": {},
   "outputs": [],
   "source": [
    "\"\"\"\n",
    "True False Dataset\n",
    "\"\"\"\n",
    "\n",
    "import os\n",
    "files = os.listdir('./data/true_false/')\n",
    "\n",
    "files = [x for x in files if 'neg' not in x]\n",
    "\n",
    "import pandas as pd\n",
    "\n",
    "def merge_csv_files(file_list, output_file):\n",
    "    # Read and collect each CSV file into a list of DataFrames\n",
    "    dfs = [pd.read_csv(f\"./data/true_false/{file}\") for file in file_list]\n",
    "\n",
    "    # Concatenate all DataFrames in the list\n",
    "    merged_df = pd.concat(dfs, ignore_index=True)\n",
    "\n",
    "    # Write the merged DataFrame to a new CSV file\n",
    "    merged_df.to_csv(f\"./data/{output_file}\", index=False)\n",
    "\n",
    "merge_csv_files(files, 'tru_false.csv')"
   ]
  },
  {
   "cell_type": "code",
   "execution_count": 4,
   "metadata": {},
   "outputs": [],
   "source": [
    "\"\"\"\n",
    "TOXIGEN Dataset\n",
    "\"\"\"\n",
    "import os\n",
    "files = os.listdir('./data/toxigen/')\n",
    "\n",
    "import csv\n",
    "\n",
    "def merge_text_files_to_csv(file_list, output_file):\n",
    "    with open(output_file, 'w', newline='') as csvfile:\n",
    "        csvwriter = csv.writer(csvfile)\n",
    "        csvwriter.writerow(['Text', 'Label'])\n",
    "\n",
    "        for filename in file_list:\n",
    "            if 'hate' in filename:\n",
    "                _label = 1\n",
    "            else:\n",
    "                _label = 0\n",
    "\n",
    "            with open(f\"./data/toxigen/{filename}\", 'r') as txtfile:\n",
    "                # Assuming each text file has one record per line\n",
    "                lines = txtfile.readlines()\n",
    "\n",
    "                for line in lines:\n",
    "                    # Write each line from the text file as a row in the CSV\n",
    "                    csvwriter.writerow([line.strip(), _label])\n",
    "\n",
    "merge_text_files_to_csv(files, './data/toxigen.csv')"
   ]
  }
 ],
 "metadata": {
  "kernelspec": {
   "display_name": "dlt",
   "language": "python",
   "name": "python3"
  },
  "language_info": {
   "codemirror_mode": {
    "name": "ipython",
    "version": 3
   },
   "file_extension": ".py",
   "mimetype": "text/x-python",
   "name": "python",
   "nbconvert_exporter": "python",
   "pygments_lexer": "ipython3",
   "version": "3.10.13"
  },
  "orig_nbformat": 4
 },
 "nbformat": 4,
 "nbformat_minor": 2
}
