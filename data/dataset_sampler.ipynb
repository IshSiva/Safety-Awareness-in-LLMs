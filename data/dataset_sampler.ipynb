{
 "cells": [
  {
   "cell_type": "code",
   "execution_count": 1,
   "metadata": {},
   "outputs": [],
   "source": [
    "import pandas as pd"
   ]
  },
  {
   "cell_type": "code",
   "execution_count": 2,
   "metadata": {},
   "outputs": [],
   "source": [
    "#run from the root directory\n",
    "import os\n",
    "\n",
    "os.chdir(\"..\")"
   ]
  },
  {
   "cell_type": "code",
   "execution_count": 3,
   "metadata": {},
   "outputs": [],
   "source": [
    "import config"
   ]
  },
  {
   "cell_type": "code",
   "execution_count": 4,
   "metadata": {},
   "outputs": [],
   "source": [
    "config_map = config.dataset_category_mapping\n",
    "index_map  = config.index_class_mapping"
   ]
  },
  {
   "cell_type": "markdown",
   "metadata": {},
   "source": [
    "# HCI Harms"
   ]
  },
  {
   "cell_type": "code",
   "execution_count": 15,
   "metadata": {},
   "outputs": [],
   "source": [
    "hci_harms_df = pd.DataFrame()"
   ]
  },
  {
   "cell_type": "code",
   "execution_count": 6,
   "metadata": {},
   "outputs": [],
   "source": [
    "#student anxiety dataset\n",
    "#unsafe: 730, safe: 5000\n",
    "\n",
    "df_1_name = \"anxiety\"\n",
    "student_anxiety = pd.read_csv(\"data/HCI_harms/anxiety.csv\")\n",
    "student_anxiety['global_label']  = student_anxiety['label'].map(config_map[df_1_name]['column_mapping'])\n",
    "student_anxiety = student_anxiety.rename(columns={\"text\": 'text', 'label': 'binary_label'})\n",
    "student_anxiety = student_anxiety[['text', 'binary_label', 'global_label']]\n",
    "\n",
    "anxiety_unsafe = student_anxiety[student_anxiety['binary_label'] == 1]\n",
    "anxiety_unsafe = anxiety_unsafe[['text', 'binary_label', 'global_label']]\n",
    "\n",
    "anxiety_safe = student_anxiety[student_anxiety['binary_label'] == 0].sample(n=5500)\n",
    "\n",
    "anxiety_safe = anxiety_safe[['text', 'binary_label', 'global_label']]\n"
   ]
  },
  {
   "cell_type": "code",
   "execution_count": 11,
   "metadata": {},
   "outputs": [],
   "source": [
    "#suicide detection dataset\n",
    "#unsafe: 9270, safe: 5000\n",
    "df_2_name = \"suicide\"\n",
    "suicide = pd.read_csv(\"data/HCI_harms/suicide.csv\")\n",
    "suicide['global_label']  = suicide['class'].map(config_map[df_2_name]['column_mapping'])\n",
    "suicide['binary_label'] = suicide['global_label'].map(index_map)\n",
    "suicide = suicide[['text', 'binary_label', 'global_label']]\n",
    "\n",
    "suicide_unsafe = suicide[suicide['binary_label'] == 1].sample(n=9300)\n",
    "suicide_safe = suicide[suicide['binary_label'] == 0].sample(n=5500)\n",
    "\n"
   ]
  },
  {
   "cell_type": "code",
   "execution_count": 12,
   "metadata": {},
   "outputs": [],
   "source": [
    "hci_harms_df = pd.concat([anxiety_unsafe, anxiety_safe, suicide_unsafe, suicide_safe])"
   ]
  },
  {
   "cell_type": "code",
   "execution_count": 13,
   "metadata": {},
   "outputs": [],
   "source": [
    "tmp2 = hci_harms_df.drop_duplicates(subset='text')"
   ]
  },
  {
   "cell_type": "code",
   "execution_count": 14,
   "metadata": {},
   "outputs": [
    {
     "data": {
      "text/plain": [
       "0.0    10951\n",
       "1.0    10012\n",
       "Name: binary_label, dtype: int64"
      ]
     },
     "execution_count": 14,
     "metadata": {},
     "output_type": "execute_result"
    }
   ],
   "source": [
    "tmp2['binary_label'].value_counts()"
   ]
  },
  {
   "cell_type": "code",
   "execution_count": 16,
   "metadata": {},
   "outputs": [
    {
     "data": {
      "text/html": [
       "<div>\n",
       "<style scoped>\n",
       "    .dataframe tbody tr th:only-of-type {\n",
       "        vertical-align: middle;\n",
       "    }\n",
       "\n",
       "    .dataframe tbody tr th {\n",
       "        vertical-align: top;\n",
       "    }\n",
       "\n",
       "    .dataframe thead th {\n",
       "        text-align: right;\n",
       "    }\n",
       "</style>\n",
       "<table border=\"1\" class=\"dataframe\">\n",
       "  <thead>\n",
       "    <tr style=\"text-align: right;\">\n",
       "      <th></th>\n",
       "      <th>text</th>\n",
       "      <th>binary_label</th>\n",
       "      <th>global_label</th>\n",
       "    </tr>\n",
       "  </thead>\n",
       "  <tbody>\n",
       "    <tr>\n",
       "      <th>0</th>\n",
       "      <td>oh my gosh</td>\n",
       "      <td>1.0</td>\n",
       "      <td>7</td>\n",
       "    </tr>\n",
       "  </tbody>\n",
       "</table>\n",
       "</div>"
      ],
      "text/plain": [
       "         text  binary_label  global_label\n",
       "0  oh my gosh           1.0             7"
      ]
     },
     "execution_count": 16,
     "metadata": {},
     "output_type": "execute_result"
    }
   ],
   "source": [
    "tmp2.head(1)"
   ]
  },
  {
   "cell_type": "code",
   "execution_count": 19,
   "metadata": {},
   "outputs": [],
   "source": [
    "t1 = tmp2[tmp2['binary_label'] == 0].sample(n=10000)\n",
    "t2 = tmp2[tmp2['binary_label'] == 1].sample(10000)\n",
    "\n",
    "df = pd.concat([t1, t2])"
   ]
  },
  {
   "cell_type": "code",
   "execution_count": 20,
   "metadata": {},
   "outputs": [
    {
     "data": {
      "text/plain": [
       "0.0    10000\n",
       "1.0    10000\n",
       "Name: binary_label, dtype: int64"
      ]
     },
     "execution_count": 20,
     "metadata": {},
     "output_type": "execute_result"
    }
   ],
   "source": [
    "df['binary_label'].value_counts()"
   ]
  },
  {
   "cell_type": "code",
   "execution_count": 21,
   "metadata": {},
   "outputs": [],
   "source": [
    "df.to_csv(\"data/hci_harms_df.csv\", index=False)"
   ]
  },
  {
   "cell_type": "markdown",
   "metadata": {},
   "source": [
    "# Malicious Uses"
   ]
  },
  {
   "cell_type": "code",
   "execution_count": 5,
   "metadata": {},
   "outputs": [],
   "source": [
    "def generate_df(*args):\n",
    "    new_df = pd.DataFrame()\n",
    "\n",
    "    for i in range(len(args)):\n",
    "        df, safe_sample, unsafe_sample = args[i]\n",
    "        safe_df = df[df['binary_label'] == 0].sample(n=safe_sample)\n",
    "        unsafe_df = df[df['binary_label'] == 1].sample(n=unsafe_sample)\n",
    "\n",
    "        new_df = pd.concat([new_df, safe_df, unsafe_df])\n",
    "\n",
    "    \n",
    "    new_df = new_df.drop_duplicates(subset='text')\n",
    "    print(new_df['binary_label'].value_counts())\n",
    "\n",
    "    t1 = new_df[new_df['binary_label'] == 0].sample(n=10000, replace=False)\n",
    "    t2 = new_df[new_df['binary_label'] == 1].sample(n=10000, replace=False)\n",
    "\n",
    "    t = pd.concat([t1, t2])\n",
    "\n",
    "    \n",
    "    return t"
   ]
  },
  {
   "cell_type": "code",
   "execution_count": 6,
   "metadata": {},
   "outputs": [
    {
     "data": {
      "text/plain": [
       "{'column_text': 'content',\n",
       " 'column_label': 'binary_label',\n",
       " 'column_mapping': {1: 18}}"
      ]
     },
     "execution_count": 6,
     "metadata": {},
     "output_type": "execute_result"
    }
   ],
   "source": [
    "config_map['fake_news']"
   ]
  },
  {
   "cell_type": "code",
   "execution_count": 7,
   "metadata": {},
   "outputs": [],
   "source": [
    "def process_df(df, df_name):\n",
    "    label_col = config_map[df_name]['column_label']\n",
    "    text_col = config_map[df_name]['column_text']\n",
    "    new_df = df.copy()\n",
    "    new_df['global_label'] = new_df[label_col].map(config_map[df_name]['column_mapping'])\n",
    "    new_df['binary_label'] = new_df['global_label'].map(index_map)\n",
    "    new_df = new_df.rename(columns={text_col: \"text\"})\n",
    "\n",
    "    new_df = new_df[['text', 'binary_label', 'global_label']]\n",
    "    \n",
    "    return new_df"
   ]
  },
  {
   "cell_type": "code",
   "execution_count": 78,
   "metadata": {},
   "outputs": [],
   "source": [
    "bully = pd.read_csv(\"data/malicious_uses/cyberbullying.csv\")\n",
    "df_name = \"cyberbullying\"\n",
    "bully = process_df(bully, \"cyberbullying\")\n"
   ]
  },
  {
   "cell_type": "code",
   "execution_count": 79,
   "metadata": {},
   "outputs": [],
   "source": [
    "sus_act = pd.read_csv(\"data/malicious_uses/suspicious_activity.csv\")\n",
    "sus_act = process_df(sus_act, \"suspicious_activity\")"
   ]
  },
  {
   "cell_type": "code",
   "execution_count": 75,
   "metadata": {},
   "outputs": [
    {
     "data": {
      "text/plain": [
       "0    391223\n",
       "1     57651\n",
       "Name: binary_label, dtype: int64"
      ]
     },
     "execution_count": 75,
     "metadata": {},
     "output_type": "execute_result"
    }
   ],
   "source": [
    "bully['binary_label'].value_counts()"
   ]
  },
  {
   "cell_type": "code",
   "execution_count": 80,
   "metadata": {},
   "outputs": [],
   "source": [
    "mal_df = generate_df((bully, 5500, 5500), (sus_act, 5500, 5500))"
   ]
  },
  {
   "cell_type": "code",
   "execution_count": 81,
   "metadata": {},
   "outputs": [
    {
     "data": {
      "text/plain": [
       "0    10000\n",
       "1    10000\n",
       "Name: binary_label, dtype: int64"
      ]
     },
     "execution_count": 81,
     "metadata": {},
     "output_type": "execute_result"
    }
   ],
   "source": [
    "mal_df['binary_label'].value_counts()"
   ]
  },
  {
   "cell_type": "code",
   "execution_count": 82,
   "metadata": {},
   "outputs": [],
   "source": [
    "mal_df  = mal_df.drop_duplicates(subset='text')"
   ]
  },
  {
   "cell_type": "code",
   "execution_count": 83,
   "metadata": {},
   "outputs": [
    {
     "data": {
      "text/plain": [
       "20000"
      ]
     },
     "execution_count": 83,
     "metadata": {},
     "output_type": "execute_result"
    }
   ],
   "source": [
    "len(mal_df)"
   ]
  },
  {
   "cell_type": "code",
   "execution_count": 84,
   "metadata": {},
   "outputs": [],
   "source": [
    "mal_df.to_csv(\"data/malicious_activity.csv\", index=False)"
   ]
  },
  {
   "cell_type": "markdown",
   "metadata": {},
   "source": [
    "# Discrimination, Exclusion, Toxicity"
   ]
  },
  {
   "cell_type": "code",
   "execution_count": 85,
   "metadata": {},
   "outputs": [],
   "source": [
    "adult = pd.read_excel(\"data/disc_excl_toxicity/adult_data.xlsx\")\n",
    "adult = process_df(adult, \"adult_content\")"
   ]
  },
  {
   "cell_type": "code",
   "execution_count": 86,
   "metadata": {},
   "outputs": [],
   "source": [
    "hate = pd.read_csv(\"data/disc_excl_toxicity/hate_speech.csv\")\n",
    "hate = process_df(hate, \"hate_speech\")"
   ]
  },
  {
   "cell_type": "code",
   "execution_count": 87,
   "metadata": {},
   "outputs": [
    {
     "data": {
      "text/plain": [
       "0    80624\n",
       "1    46021\n",
       "Name: binary_label, dtype: int64"
      ]
     },
     "execution_count": 87,
     "metadata": {},
     "output_type": "execute_result"
    }
   ],
   "source": [
    "hate['binary_label'].value_counts()"
   ]
  },
  {
   "cell_type": "code",
   "execution_count": 88,
   "metadata": {},
   "outputs": [],
   "source": [
    "toxigen = pd.read_csv(\"data/disc_excl_toxicity/toxigen.csv\")\n",
    "toxigen = process_df(toxigen, \"toxigen\")"
   ]
  },
  {
   "cell_type": "code",
   "execution_count": 90,
   "metadata": {},
   "outputs": [
    {
     "data": {
      "text/plain": [
       "0    512\n",
       "1    338\n",
       "Name: binary_label, dtype: int64"
      ]
     },
     "execution_count": 90,
     "metadata": {},
     "output_type": "execute_result"
    }
   ],
   "source": [
    "adult['binary_label'].value_counts()"
   ]
  },
  {
   "cell_type": "code",
   "execution_count": 91,
   "metadata": {},
   "outputs": [
    {
     "data": {
      "text/plain": [
       "0    80624\n",
       "1    46021\n",
       "Name: binary_label, dtype: int64"
      ]
     },
     "execution_count": 91,
     "metadata": {},
     "output_type": "execute_result"
    }
   ],
   "source": [
    "hate['binary_label'].value_counts()"
   ]
  },
  {
   "cell_type": "code",
   "execution_count": 92,
   "metadata": {},
   "outputs": [
    {
     "data": {
      "text/plain": [
       "1    125672\n",
       "0    125279\n",
       "Name: binary_label, dtype: int64"
      ]
     },
     "execution_count": 92,
     "metadata": {},
     "output_type": "execute_result"
    }
   ],
   "source": [
    "toxigen['binary_label'].value_counts()"
   ]
  },
  {
   "cell_type": "code",
   "execution_count": 98,
   "metadata": {},
   "outputs": [
    {
     "name": "stdout",
     "output_type": "stream",
     "text": [
      "0    11684\n",
      "1    10211\n",
      "Name: binary_label, dtype: int64\n"
     ]
    }
   ],
   "source": [
    "disc_df = generate_df((adult, 512, 338), (hate, 7800,8900), (toxigen,7800,8900))"
   ]
  },
  {
   "cell_type": "code",
   "execution_count": 99,
   "metadata": {},
   "outputs": [
    {
     "data": {
      "text/plain": [
       "0    10000\n",
       "1    10000\n",
       "Name: binary_label, dtype: int64"
      ]
     },
     "execution_count": 99,
     "metadata": {},
     "output_type": "execute_result"
    }
   ],
   "source": [
    "disc_df['binary_label'].value_counts()"
   ]
  },
  {
   "cell_type": "code",
   "execution_count": null,
   "metadata": {},
   "outputs": [],
   "source": []
  },
  {
   "cell_type": "code",
   "execution_count": 100,
   "metadata": {},
   "outputs": [],
   "source": [
    "disc_df.to_csv(\"data/discrimination.csv\", index=False)"
   ]
  },
  {
   "cell_type": "markdown",
   "metadata": {},
   "source": [
    "# Misinfo"
   ]
  },
  {
   "cell_type": "code",
   "execution_count": 8,
   "metadata": {},
   "outputs": [],
   "source": [
    "covid = pd.read_csv(\"data/misinformation/covid_fake_news_data.csv\")\n",
    "covid = process_df(covid, \"covid_fake_news\")"
   ]
  },
  {
   "cell_type": "code",
   "execution_count": 9,
   "metadata": {},
   "outputs": [],
   "source": [
    "true_false = pd.read_csv(\"data/misinformation/true_false.csv\")\n",
    "true_false = process_df(true_false, \"true_false\")\n"
   ]
  },
  {
   "cell_type": "code",
   "execution_count": 10,
   "metadata": {},
   "outputs": [],
   "source": [
    "fake = pd.read_csv(\"data/misinformation/fake_news.csv\")\n",
    "fake = process_df(fake, \"fake_news\")"
   ]
  },
  {
   "cell_type": "code",
   "execution_count": 11,
   "metadata": {},
   "outputs": [
    {
     "data": {
      "text/plain": [
       "0    4064\n",
       "1     397\n",
       "Name: binary_label, dtype: int64"
      ]
     },
     "execution_count": 11,
     "metadata": {},
     "output_type": "execute_result"
    }
   ],
   "source": [
    "covid['binary_label'].value_counts()"
   ]
  },
  {
   "cell_type": "code",
   "execution_count": 12,
   "metadata": {},
   "outputs": [
    {
     "data": {
      "text/plain": [
       "1    9929\n",
       "0    9733\n",
       "Name: binary_label, dtype: int64"
      ]
     },
     "execution_count": 12,
     "metadata": {},
     "output_type": "execute_result"
    }
   ],
   "source": [
    "true_false['binary_label'].value_counts()"
   ]
  },
  {
   "cell_type": "code",
   "execution_count": 13,
   "metadata": {},
   "outputs": [
    {
     "data": {
      "text/html": [
       "<div>\n",
       "<style scoped>\n",
       "    .dataframe tbody tr th:only-of-type {\n",
       "        vertical-align: middle;\n",
       "    }\n",
       "\n",
       "    .dataframe tbody tr th {\n",
       "        vertical-align: top;\n",
       "    }\n",
       "\n",
       "    .dataframe thead th {\n",
       "        text-align: right;\n",
       "    }\n",
       "</style>\n",
       "<table border=\"1\" class=\"dataframe\">\n",
       "  <thead>\n",
       "    <tr style=\"text-align: right;\">\n",
       "      <th></th>\n",
       "      <th>text</th>\n",
       "      <th>binary_label</th>\n",
       "      <th>global_label</th>\n",
       "    </tr>\n",
       "  </thead>\n",
       "  <tbody>\n",
       "    <tr>\n",
       "      <th>0</th>\n",
       "      <td>Donald Trump Sends Out Embarrassing New Year’...</td>\n",
       "      <td>1</td>\n",
       "      <td>18</td>\n",
       "    </tr>\n",
       "  </tbody>\n",
       "</table>\n",
       "</div>"
      ],
      "text/plain": [
       "                                                text  binary_label  \\\n",
       "0   Donald Trump Sends Out Embarrassing New Year’...             1   \n",
       "\n",
       "   global_label  \n",
       "0            18  "
      ]
     },
     "execution_count": 13,
     "metadata": {},
     "output_type": "execute_result"
    }
   ],
   "source": [
    "fake.head(1)"
   ]
  },
  {
   "cell_type": "code",
   "execution_count": 14,
   "metadata": {},
   "outputs": [
    {
     "data": {
      "text/plain": [
       "1    17908\n",
       "Name: binary_label, dtype: int64"
      ]
     },
     "execution_count": 14,
     "metadata": {},
     "output_type": "execute_result"
    }
   ],
   "source": [
    "fake['binary_label'].value_counts()"
   ]
  },
  {
   "cell_type": "code",
   "execution_count": 15,
   "metadata": {},
   "outputs": [
    {
     "name": "stdout",
     "output_type": "stream",
     "text": [
      "1    18246\n",
      "0    11594\n",
      "Name: binary_label, dtype: int64\n"
     ]
    }
   ],
   "source": [
    "misinfo = generate_df((covid, 4064,397), (true_false,9700,9900), (fake, 0, 10000))"
   ]
  },
  {
   "cell_type": "code",
   "execution_count": 16,
   "metadata": {},
   "outputs": [
    {
     "data": {
      "text/plain": [
       "0    10000\n",
       "1    10000\n",
       "Name: binary_label, dtype: int64"
      ]
     },
     "execution_count": 16,
     "metadata": {},
     "output_type": "execute_result"
    }
   ],
   "source": [
    "misinfo['binary_label'].value_counts()"
   ]
  },
  {
   "cell_type": "code",
   "execution_count": 17,
   "metadata": {},
   "outputs": [],
   "source": [
    "misinfo.to_csv(\"data/misinfo.csv\")"
   ]
  },
  {
   "cell_type": "code",
   "execution_count": null,
   "metadata": {},
   "outputs": [],
   "source": []
  }
 ],
 "metadata": {
  "kernelspec": {
   "display_name": "Python 3",
   "language": "python",
   "name": "python3"
  },
  "language_info": {
   "codemirror_mode": {
    "name": "ipython",
    "version": 3
   },
   "file_extension": ".py",
   "mimetype": "text/x-python",
   "name": "python",
   "nbconvert_exporter": "python",
   "pygments_lexer": "ipython3",
   "version": "3.11.6"
  }
 },
 "nbformat": 4,
 "nbformat_minor": 2
}
