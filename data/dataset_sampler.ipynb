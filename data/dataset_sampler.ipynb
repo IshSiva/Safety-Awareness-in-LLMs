{
 "cells": [
  {
   "cell_type": "code",
   "execution_count": 1,
   "metadata": {},
   "outputs": [],
   "source": [
    "import pandas as pd"
   ]
  },
  {
   "cell_type": "code",
   "execution_count": 2,
   "metadata": {},
   "outputs": [],
   "source": [
    "#run from the root directory\n",
    "import os\n",
    "\n",
    "os.chdir(\"..\")"
   ]
  },
  {
   "cell_type": "code",
   "execution_count": 3,
   "metadata": {},
   "outputs": [],
   "source": [
    "import config"
   ]
  },
  {
   "cell_type": "code",
   "execution_count": 4,
   "metadata": {},
   "outputs": [],
   "source": [
    "config_map = config.dataset_category_mapping\n",
    "index_map  = config.index_class_mapping"
   ]
  },
  {
   "cell_type": "markdown",
   "metadata": {},
   "source": [
    "# HCI Harms"
   ]
  },
  {
   "cell_type": "code",
   "execution_count": 2,
   "metadata": {},
   "outputs": [],
   "source": [
    "hci_harms_df = pd.DataFrame()"
   ]
  },
  {
   "cell_type": "code",
   "execution_count": 18,
   "metadata": {},
   "outputs": [],
   "source": [
    "#student anxiety dataset\n",
    "#unsafe: 730, safe: 5000\n",
    "df_1_name = \"anxiety\"\n",
    "student_anxiety = pd.read_csv(\"data/HCI_harms/anxiety.csv\")\n",
    "student_anxiety['global_label']  = student_anxiety['label'].map(config_map[df_1_name]['column_mapping'])\n",
    "student_anxiety = student_anxiety.rename(columns={\"text\": 'text', 'label': 'binary_label'})\n",
    "student_anxiety = student_anxiety[['text', 'binary_label', 'global_label']]\n",
    "\n",
    "anxiety_unsafe = student_anxiety[student_anxiety['binary_label'] == 1]\n",
    "anxiety_unsafe = anxiety_unsafe[['text', 'binary_label', 'global_label']]\n",
    "\n",
    "anxiety_safe = student_anxiety[student_anxiety['binary_label'] == 0].sample(n=5000)\n",
    "\n",
    "anxiety_safe = anxiety_safe[['text', 'binary_label', 'global_label']]\n"
   ]
  },
  {
   "cell_type": "code",
   "execution_count": 20,
   "metadata": {},
   "outputs": [],
   "source": [
    "#suicide detection dataset\n",
    "#unsafe: 9270, safe: 5000\n",
    "df_2_name = \"suicide\"\n",
    "suicide = pd.read_csv(\"data/HCI_harms/suicide.csv\")\n",
    "suicide['global_label']  = suicide['class'].map(config_map[df_2_name]['column_mapping'])\n",
    "suicide['binary_label'] = suicide['global_label'].map(index_map)\n",
    "suicide = suicide[['text', 'binary_label', 'global_label']]\n",
    "\n",
    "suicide_unsafe = suicide[suicide['binary_label'] == 1].sample(n=9270)\n",
    "suicide_safe = suicide[suicide['binary_label'] == 0].sample(n=5000)\n",
    "\n"
   ]
  },
  {
   "cell_type": "code",
   "execution_count": 22,
   "metadata": {},
   "outputs": [],
   "source": [
    "hci_harms_df = pd.concat([anxiety_unsafe, anxiety_safe, suicide_unsafe, suicide_safe])"
   ]
  },
  {
   "cell_type": "code",
   "execution_count": 23,
   "metadata": {},
   "outputs": [
    {
     "data": {
      "text/plain": [
       "20000"
      ]
     },
     "execution_count": 23,
     "metadata": {},
     "output_type": "execute_result"
    }
   ],
   "source": [
    "len(hci_harms_df)"
   ]
  },
  {
   "cell_type": "code",
   "execution_count": 25,
   "metadata": {},
   "outputs": [],
   "source": [
    "hci_harms_df.to_csv(\"data/hci_harms_df.csv\", index=False)"
   ]
  },
  {
   "cell_type": "markdown",
   "metadata": {},
   "source": [
    "# Malicious Uses"
   ]
  },
  {
   "cell_type": "code",
   "execution_count": 5,
   "metadata": {},
   "outputs": [],
   "source": [
    "def generate_df(*args):\n",
    "    new_df = pd.DataFrame()\n",
    "\n",
    "    for i in range(len(args)):\n",
    "        df, safe_sample, unsafe_sample = args[i]\n",
    "        safe_df = df[df['binary_label'] == 0].sample(n=safe_sample)\n",
    "        unsafe_df = df[df['binary_label'] == 1].sample(n=unsafe_sample)\n",
    "\n",
    "        new_df = pd.concat([new_df, safe_df, unsafe_df])\n",
    "    \n",
    "    return new_df"
   ]
  },
  {
   "cell_type": "code",
   "execution_count": 7,
   "metadata": {},
   "outputs": [],
   "source": [
    "def process_df(df, df_name):\n",
    "    label_col = config_map[df_name]['column_label']\n",
    "    text_col = config_map[df_name]['column_text']\n",
    "    new_df = df.copy()\n",
    "    new_df['global_label'] = new_df[label_col].map(config_map[df_name]['column_mapping'])\n",
    "    new_df['binary_label'] = new_df['global_label'].map(index_map)\n",
    "    new_df = new_df.rename(columns={text_col: \"text\"})\n",
    "\n",
    "    new_df = new_df[['text', 'binary_label', 'global_label']]\n",
    "    return new_df"
   ]
  },
  {
   "cell_type": "code",
   "execution_count": 39,
   "metadata": {},
   "outputs": [],
   "source": [
    "bully = pd.read_csv(\"data/malicious_uses/cyberbullying.csv\")\n",
    "df_name = \"cyberbullying\"\n",
    "bully = process_df(bully, \"cyberbullying\")\n"
   ]
  },
  {
   "cell_type": "code",
   "execution_count": 41,
   "metadata": {},
   "outputs": [],
   "source": [
    "sus_act = pd.read_csv(\"data/malicious_uses/suspicious_activity.csv\")\n",
    "sus_act = process_df(sus_act, \"suspicious_activity\")"
   ]
  },
  {
   "cell_type": "code",
   "execution_count": 45,
   "metadata": {},
   "outputs": [],
   "source": [
    "mal_df = generate_df((bully, 5000, 5000), (sus_act, 5000, 5000))"
   ]
  },
  {
   "cell_type": "code",
   "execution_count": 48,
   "metadata": {},
   "outputs": [],
   "source": [
    "mal_df.to_csv(\"data/malicious_activity.csv\", index=False)"
   ]
  },
  {
   "cell_type": "markdown",
   "metadata": {},
   "source": [
    "# Discrimination, Exclusion, Toxicity"
   ]
  },
  {
   "cell_type": "code",
   "execution_count": 8,
   "metadata": {},
   "outputs": [],
   "source": [
    "adult = pd.read_excel(\"data/disc_excl_toxicity/adult_data.xlsx\")\n",
    "adult = process_df(adult, \"adult_content\")"
   ]
  },
  {
   "cell_type": "code",
   "execution_count": 9,
   "metadata": {},
   "outputs": [],
   "source": [
    "hate = pd.read_csv(\"data/disc_excl_toxicity/hate_speech.csv\")\n",
    "hate = process_df(hate, \"hate_speech\")"
   ]
  },
  {
   "cell_type": "code",
   "execution_count": 10,
   "metadata": {},
   "outputs": [
    {
     "data": {
      "text/plain": [
       "0    80624\n",
       "1    46021\n",
       "Name: binary_label, dtype: int64"
      ]
     },
     "execution_count": 10,
     "metadata": {},
     "output_type": "execute_result"
    }
   ],
   "source": [
    "hate['binary_label'].value_counts()"
   ]
  },
  {
   "cell_type": "code",
   "execution_count": 11,
   "metadata": {},
   "outputs": [],
   "source": [
    "toxigen = pd.read_csv(\"data/disc_excl_toxicity/toxigen.csv\")\n",
    "toxigen = process_df(toxigen, \"toxigen\")"
   ]
  },
  {
   "cell_type": "code",
   "execution_count": 12,
   "metadata": {},
   "outputs": [],
   "source": [
    "disc_df = generate_df((adult, 512, 338), (hate, 4744,4831), (toxigen,4744, 4831))"
   ]
  },
  {
   "cell_type": "code",
   "execution_count": 14,
   "metadata": {},
   "outputs": [
    {
     "data": {
      "text/plain": [
       "0    10000\n",
       "1    10000\n",
       "Name: binary_label, dtype: int64"
      ]
     },
     "execution_count": 14,
     "metadata": {},
     "output_type": "execute_result"
    }
   ],
   "source": [
    "disc_df['binary_label'].value_counts()"
   ]
  },
  {
   "cell_type": "code",
   "execution_count": 15,
   "metadata": {},
   "outputs": [],
   "source": [
    "disc_df.to_csv(\"data/discrimination.csv\", index=False)"
   ]
  },
  {
   "cell_type": "markdown",
   "metadata": {},
   "source": [
    "# Misinfo"
   ]
  },
  {
   "cell_type": "code",
   "execution_count": 17,
   "metadata": {},
   "outputs": [],
   "source": [
    "covid = pd.read_csv(\"data/misinformation/covid_fake_news_data.csv\")\n",
    "covid = process_df(covid, \"covid_fake_news\")"
   ]
  },
  {
   "cell_type": "code",
   "execution_count": 19,
   "metadata": {},
   "outputs": [],
   "source": [
    "true_false = pd.read_csv(\"data/misinformation/true_false.csv\")\n",
    "true_false = process_df(true_false, \"true_false\")\n"
   ]
  },
  {
   "cell_type": "code",
   "execution_count": 20,
   "metadata": {},
   "outputs": [],
   "source": [
    "misinfo = generate_df((covid, 4064,397), (true_false,5936,9603 ))"
   ]
  },
  {
   "cell_type": "code",
   "execution_count": 21,
   "metadata": {},
   "outputs": [
    {
     "data": {
      "text/plain": [
       "0    10000\n",
       "1    10000\n",
       "Name: binary_label, dtype: int64"
      ]
     },
     "execution_count": 21,
     "metadata": {},
     "output_type": "execute_result"
    }
   ],
   "source": [
    "misinfo['binary_label'].value_counts()"
   ]
  },
  {
   "cell_type": "code",
   "execution_count": 28,
   "metadata": {},
   "outputs": [],
   "source": [
    "misinfo.to_csv(\"data/misinfo.csv\")"
   ]
  }
 ],
 "metadata": {
  "kernelspec": {
   "display_name": "Python 3",
   "language": "python",
   "name": "python3"
  },
  "language_info": {
   "codemirror_mode": {
    "name": "ipython",
    "version": 3
   },
   "file_extension": ".py",
   "mimetype": "text/x-python",
   "name": "python",
   "nbconvert_exporter": "python",
   "pygments_lexer": "ipython3",
   "version": "3.11.6"
  }
 },
 "nbformat": 4,
 "nbformat_minor": 2
}
