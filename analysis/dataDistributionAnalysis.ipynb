{
 "cells": [
  {
   "cell_type": "code",
   "execution_count": 1,
   "metadata": {},
   "outputs": [],
   "source": [
    "#run from the root directory\n",
    "import os\n",
    "\n",
    "os.chdir(\"..\")"
   ]
  },
  {
   "cell_type": "code",
   "execution_count": 1,
   "metadata": {},
   "outputs": [],
   "source": [
    "\n",
    "files = [x for x in os.listdir('./raw_data/') if '.csv' in x]"
   ]
  },
  {
   "cell_type": "code",
   "execution_count": 2,
   "metadata": {},
   "outputs": [],
   "source": [
    "dataset_category_mapping = {\n",
    "    \"adult_content\":\n",
    "    {\n",
    "       \"column_text\": \"Description\",\n",
    "       \"column_name\": \"Category\",\n",
    "       \"column_mapping\": {\"Non_Adult\":1, \"Adult\":0}\n",
    "    },\n",
    "    \"do_not_answer_en\":\n",
    "    {\n",
    "        \"column_text\": \"question\",\n",
    "        \"column_name\": \"types_of_harm\",\n",
    "        \"column_mapping\": {\n",
    "            \"Adult Content\":4, \"Social stereotypes and unfair discrimination\":5,\\\n",
    "            \"Toxic language (hate speech)\":6, \"Mental Health or Overreliance Crisis\":7, \\\n",
    "            \"Treat Chatbot as a Human\":8, \\\n",
    "            \"Compromise privacy by leaking or inferring private information (person/individual)\":9, \\\n",
    "            \"Risks from leaking or inferring sensitive information (organization/gov)\":10, \\\n",
    "            \"Assisting illegal activities\":11,\n",
    "            \"Nudging or advising users to perform unethical or unsafe actions\":12,\n",
    "            \"Reducing the cost of disinformation campaigns\":13,\n",
    "            \"Causing material harm by disseminating misinformation e.g. in medicine or law\":14,\n",
    "            \"Disseminating false or misleading information\":15\n",
    "        }\n",
    "    },\n",
    "    \"student_anxiety\":\n",
    "    {\n",
    "        \"column_text\": \"text\",\n",
    "        \"column_name\": \"label\",\n",
    "        \"column_mapping\": {1.0:16, 0.0:17}\n",
    "    },\n",
    "    \"true_false\":\n",
    "    {\n",
    "        \"column_text\": \"statement\",\n",
    "        \"column_name\": \"label\",\n",
    "        \"column_mapping\": {1:18, 0:19}\n",
    "    },\n",
    "    \"toxigen\":\n",
    "    {\n",
    "        \"column_text\": \"Text\",\n",
    "        \"column_name\": \"Label\",\n",
    "        \"column_mapping\": {1:20, 0:21}\n",
    "    },\n",
    "    \"bullying\":\n",
    "    {\n",
    "       \"column_text\": \"Text\",\n",
    "       \"column_name\": \"oh_label\",\n",
    "       \"column_mapping\": {1.0:22, 0.0:23}\n",
    "    },\n",
    "    \"hate_speech\":\n",
    "    {\n",
    "       \"column_text\": \"text\",\n",
    "       \"column_name\": \"label\",\n",
    "       \"column_mapping\": {\"hate\":27, \"nothate\":28}\n",
    "    },\n",
    "    \"mis_information\":\n",
    "    {\n",
    "       \"column_text\": \"title\",\n",
    "       \"column_name\": \"label\",\n",
    "       \"column_mapping\": {1.0:29, 0.0:30}\n",
    "    },\n",
    "    \"covid_fake_news\":\n",
    "     {\n",
    "        \"column_text\": \"tweet\",\n",
    "        \"column_name\":\"label\",\n",
    "        \"column_mapping\":{'real':31,'fake':32}\n",
    "     }\n",
    "}"
   ]
  },
  {
   "cell_type": "code",
   "execution_count": null,
   "metadata": {},
   "outputs": [],
   "source": []
  },
  {
   "cell_type": "code",
   "execution_count": 10,
   "metadata": {},
   "outputs": [
    {
     "name": "stdout",
     "output_type": "stream",
     "text": [
      "nan\n",
      "nan\n",
      "nan\n",
      "nan\n",
      "nan\n",
      "nan\n",
      "nan\n",
      "nan\n",
      "nan\n",
      "nan\n",
      "nan\n"
     ]
    }
   ],
   "source": [
    "for x in text:\n",
    "    try:\n",
    "        y = x.split(' ')\n",
    "    except:\n",
    "        print(x)"
   ]
  },
  {
   "cell_type": "code",
   "execution_count": 27,
   "metadata": {},
   "outputs": [
    {
     "name": "stdout",
     "output_type": "stream",
     "text": [
      "adult_content  850\n",
      "adult_content  850 19.729411764705883\n",
      "bullying  1000\n",
      "bullying  1000 67.968\n",
      "toxigen  1000\n",
      "toxigen  1000 91.811\n",
      "true_false  1000\n",
      "true_false  1000 7.37\n",
      "student_anxiety  1000\n",
      "student_anxiety  1000 13.018\n",
      "mis_information  1000\n",
      "mis_information  1000 12.022199798183653\n",
      "hate_speech  1000\n",
      "hate_speech  1000 26.004\n",
      "covid_fake_news  1000\n",
      "covid_fake_news  1000 26.236\n",
      "do_not_answer_en  939\n",
      "do_not_answer_en  939 10.034078807241746\n"
     ]
    },
    {
     "data": {
      "image/png": "[encoded data removed]",
      "text/plain": [
       "<Figure size 640x480 with 1 Axes>"
      ]
     },
     "metadata": {},
     "output_type": "display_data"
    }
   ],
   "source": [
    "import pandas as pd\n",
    "import matplotlib.pyplot as plt\n",
    "import numpy as np\n",
    "\n",
    "for file in files[1:]:\n",
    "    file_name = file[:-4]\n",
    "    df = pd.read_csv(f\"./raw_data/{file}\")\n",
    "    df = df.sample(n=min(1000, len(df)))\n",
    "    df.dropna()\n",
    "    print(f\"{file_name}  {len(df)}\")\n",
    "    text = list(df[dataset_category_mapping[file_name]['column_text']])\n",
    "    word_count = [len(x.split(' ')) for x in text if isinstance(x, str)]\n",
    "    print(f\"{file_name}  {len(df)} {np.mean(np.array(word_count))}\")\n",
    "    if file_name != \"bullying\" and file_name != \"toxigen\":\n",
    "        plt.hist(word_count, alpha=0.8, density=True, bins=20, label=file_name)\n",
    "plt.xlim(0,70)\n",
    "plt.legend()\n",
    "plt.show()\n"
   ]
  }
 ],
 "metadata": {
  "kernelspec": {
   "display_name": "Python 3",
   "language": "python",
   "name": "python3"
  },
  "language_info": {
   "codemirror_mode": {
    "name": "ipython",
    "version": 3
   },
   "file_extension": ".py",
   "mimetype": "text/x-python",
   "name": "python",
   "nbconvert_exporter": "python",
   "pygments_lexer": "ipython3",
   "version": "3.11.6"
  },
  "orig_nbformat": 4
 },
 "nbformat": 4,
 "nbformat_minor": 2
}
