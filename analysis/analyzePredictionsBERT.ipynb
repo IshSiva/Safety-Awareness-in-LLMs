{
 "cells": [
  {
   "cell_type": "code",
   "execution_count": 1,
   "metadata": {},
   "outputs": [],
   "source": [
    "#run from the root directory\n",
    "import os\n",
    "\n",
    "os.chdir(\"..\")"
   ]
  },
  {
   "cell_type": "code",
   "execution_count": 19,
   "metadata": {},
   "outputs": [],
   "source": [
    "from config import *"
   ]
  },
  {
   "cell_type": "code",
   "execution_count": 7,
   "metadata": {},
   "outputs": [],
   "source": [
    "import random\n",
    "import numpy as np\n",
    "import pickle as pkl\n",
    "from collections import defaultdict\n",
    "from sklearn.metrics import (\n",
    "    precision_recall_curve,\n",
    "    accuracy_score,\n",
    "    precision_score,\n",
    "    recall_score,\n",
    "    f1_score,\n",
    "    roc_auc_score\n",
    ")\n",
    "\n",
    "\n",
    "def compute(labels, preds):\n",
    "    return { 'accuracy': accuracy_score(labels, preds),\n",
    "            'precision': precision_score(labels, preds),\n",
    "            'recall': recall_score(labels, preds),\n",
    "            'f1_score': f1_score(labels, preds)\n",
    "    }\n",
    "\n",
    "def findMean(data):\n",
    "    _result = {}\n",
    "    for key in data.keys():\n",
    "        val = data[key]\n",
    "        val = np.array(val).astype(np.float32)\n",
    "        mean = np.round(np.mean(val), 3)\n",
    "        std = np.round(np.std(val), 3)\n",
    "        _result[key] = str(mean) + u\" \\u00B1 \" + str(std)\n",
    "    return _result\n",
    "\n",
    "def evaluate(data):\n",
    "    labels = data['label']\n",
    "    preds = data['prediction']\n",
    "\n",
    "    cresult = defaultdict(list)\n",
    "\n",
    "    for seed in range(10):\n",
    "        random.seed(seed)\n",
    "        zlist = list(zip(labels, preds))\n",
    "        random.shuffle(zlist)\n",
    "\n",
    "        val_size = int(0.1 * len(zlist))\n",
    "        val_zlist = zlist[0:val_size]\n",
    "        test_zlist = zlist[val_size:]\n",
    "\n",
    "        vlabels, vpreds = zip(*val_zlist)\n",
    "        tlabels, tpreds = zip(*test_zlist)\n",
    "\n",
    "        precision, recall, threshold = precision_recall_curve(vlabels, vpreds)\n",
    "        f1_scores = 2*recall*precision/(recall+precision + 1e-8)\n",
    "        cutoff = threshold[np.argmax(f1_scores)]\n",
    "\n",
    "        rpreds = 1.0 * np.array([x > cutoff for x in tpreds])\n",
    "        _result = compute(tlabels, rpreds)\n",
    "        _result['auc_roc_score'] = roc_auc_score(tlabels, tpreds)\n",
    "        _result['cutoff'] = cutoff\n",
    "\n",
    "        for key in _result.keys():\n",
    "            cresult[key].append(_result[key])\n",
    "    \n",
    "    return findMean(cresult)\n",
    "\n"
   ]
  },
  {
   "cell_type": "code",
   "execution_count": 15,
   "metadata": {},
   "outputs": [],
   "source": [
    "results = pkl.load(open(\"results/bert_results.pkl\", \"rb\"))"
   ]
  },
  {
   "cell_type": "code",
   "execution_count": 20,
   "metadata": {},
   "outputs": [],
   "source": [
    "domains = list(DOMAIN_INDEX_MAPPING.keys())"
   ]
  },
  {
   "cell_type": "code",
   "execution_count": 21,
   "metadata": {},
   "outputs": [],
   "source": [
    "presults = defaultdict(lambda: defaultdict(dict))\n",
    "\n",
    "for domain in domains:\n",
    "    presults[domain] = evaluate(results[domain])\n"
   ]
  },
  {
   "cell_type": "code",
   "execution_count": 22,
   "metadata": {},
   "outputs": [],
   "source": [
    "data = presults\n",
    "\n",
    "import csv\n",
    "csv_rows = []\n",
    "\n",
    "# Prepare headers\n",
    "metrics = ['accuracy', 'precision', 'recall', 'f1_score', 'auc_roc_score', 'cutoff']\n",
    "empty_cell = len(metrics) - 1\n",
    "\n",
    "headers_main = [\"\"] + metrics\n",
    "csv_rows.append(headers_main)\n",
    "\n",
    "# Prepare rows by category\n",
    "domains = list(data.keys())\n",
    "for domain in domains:\n",
    "    row = [domain]\n",
    "    for metric in metrics:\n",
    "        row.append(data[domain][metric])\n",
    "    csv_rows.append(row)\n",
    "\n",
    "\n",
    "# Write to CSV\n",
    "with open(\"results/BERToutput.csv\", \"w\", newline='') as file:\n",
    "    writer = csv.writer(file)\n",
    "    writer.writerows(csv_rows)\n"
   ]
  },
  {
   "cell_type": "markdown",
   "metadata": {},
   "source": [
    "## Analyze the results"
   ]
  },
  {
   "cell_type": "code",
   "execution_count": 26,
   "metadata": {},
   "outputs": [],
   "source": [
    "import pandas as pd\n",
    "df = pd.read_csv(\"results/BERToutput.csv\", index_col=0)\n",
    "df = df.transpose()"
   ]
  },
  {
   "cell_type": "code",
   "execution_count": 29,
   "metadata": {},
   "outputs": [
    {
     "data": {
      "text/html": [
       "<div>\n",
       "<style scoped>\n",
       "    .dataframe tbody tr th:only-of-type {\n",
       "        vertical-align: middle;\n",
       "    }\n",
       "\n",
       "    .dataframe tbody tr th {\n",
       "        vertical-align: top;\n",
       "    }\n",
       "\n",
       "    .dataframe thead th {\n",
       "        text-align: right;\n",
       "    }\n",
       "</style>\n",
       "<table border=\"1\" class=\"dataframe\">\n",
       "  <thead>\n",
       "    <tr style=\"text-align: right;\">\n",
       "      <th></th>\n",
       "      <th>Discrimination, Exclusion, Toxicity</th>\n",
       "      <th>Misinformation</th>\n",
       "      <th>HCI harms</th>\n",
       "      <th>Malicious Uses</th>\n",
       "    </tr>\n",
       "  </thead>\n",
       "  <tbody>\n",
       "    <tr>\n",
       "      <th>accuracy</th>\n",
       "      <td>0.585 ± 0.011</td>\n",
       "      <td>0.513 ± 0.011</td>\n",
       "      <td>0.502 ± 0.002</td>\n",
       "      <td>0.534 ± 0.023</td>\n",
       "    </tr>\n",
       "    <tr>\n",
       "      <th>precision</th>\n",
       "      <td>0.553 ± 0.009</td>\n",
       "      <td>0.507 ± 0.007</td>\n",
       "      <td>0.501 ± 0.002</td>\n",
       "      <td>0.52 ± 0.015</td>\n",
       "    </tr>\n",
       "    <tr>\n",
       "      <th>recall</th>\n",
       "      <td>0.897 ± 0.027</td>\n",
       "      <td>0.971 ± 0.03</td>\n",
       "      <td>0.99 ± 0.008</td>\n",
       "      <td>0.929 ± 0.05</td>\n",
       "    </tr>\n",
       "    <tr>\n",
       "      <th>f1_score</th>\n",
       "      <td>0.683 ± 0.003</td>\n",
       "      <td>0.666 ± 0.002</td>\n",
       "      <td>0.666 ± 0.002</td>\n",
       "      <td>0.666 ± 0.002</td>\n",
       "    </tr>\n",
       "    <tr>\n",
       "      <th>auc_roc_score</th>\n",
       "      <td>0.614 ± 0.002</td>\n",
       "      <td>0.638 ± 0.001</td>\n",
       "      <td>0.573 ± 0.002</td>\n",
       "      <td>0.64 ± 0.001</td>\n",
       "    </tr>\n",
       "    <tr>\n",
       "      <th>cutoff</th>\n",
       "      <td>0.335 ± 0.031</td>\n",
       "      <td>0.045 ± 0.015</td>\n",
       "      <td>0.063 ± 0.025</td>\n",
       "      <td>0.103 ± 0.035</td>\n",
       "    </tr>\n",
       "  </tbody>\n",
       "</table>\n",
       "</div>"
      ],
      "text/plain": [
       "              Discrimination, Exclusion, Toxicity Misinformation  \\\n",
       "accuracy                            0.585 ± 0.011  0.513 ± 0.011   \n",
       "precision                           0.553 ± 0.009  0.507 ± 0.007   \n",
       "recall                              0.897 ± 0.027   0.971 ± 0.03   \n",
       "f1_score                            0.683 ± 0.003  0.666 ± 0.002   \n",
       "auc_roc_score                       0.614 ± 0.002  0.638 ± 0.001   \n",
       "cutoff                              0.335 ± 0.031  0.045 ± 0.015   \n",
       "\n",
       "                   HCI harms Malicious Uses  \n",
       "accuracy       0.502 ± 0.002  0.534 ± 0.023  \n",
       "precision      0.501 ± 0.002   0.52 ± 0.015  \n",
       "recall          0.99 ± 0.008   0.929 ± 0.05  \n",
       "f1_score       0.666 ± 0.002  0.666 ± 0.002  \n",
       "auc_roc_score  0.573 ± 0.002   0.64 ± 0.001  \n",
       "cutoff         0.063 ± 0.025  0.103 ± 0.035  "
      ]
     },
     "execution_count": 29,
     "metadata": {},
     "output_type": "execute_result"
    }
   ],
   "source": [
    "df.head(6)"
   ]
  }
 ],
 "metadata": {
  "kernelspec": {
   "display_name": "dlt",
   "language": "python",
   "name": "python3"
  },
  "language_info": {
   "codemirror_mode": {
    "name": "ipython",
    "version": 3
   },
   "file_extension": ".py",
   "mimetype": "text/x-python",
   "name": "python",
   "nbconvert_exporter": "python",
   "pygments_lexer": "ipython3",
   "version": "3.11.6"
  },
  "orig_nbformat": 4
 },
 "nbformat": 4,
 "nbformat_minor": 2
}
