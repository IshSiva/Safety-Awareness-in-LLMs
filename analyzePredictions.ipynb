{
 "cells": [
  {
   "cell_type": "code",
   "execution_count": 39,
   "metadata": {},
   "outputs": [],
   "source": [
    "import os\n",
    "configs = os.listdir(\"./results/\")"
   ]
  },
  {
   "cell_type": "code",
   "execution_count": 50,
   "metadata": {},
   "outputs": [],
   "source": [
    "import random\n",
    "import numpy as np\n",
    "import pickle as pkl\n",
    "from collections import defaultdict\n",
    "from sklearn.metrics import (\n",
    "    precision_recall_curve,\n",
    "    accuracy_score,\n",
    "    precision_score,\n",
    "    recall_score,\n",
    "    f1_score,\n",
    "    roc_auc_score\n",
    ")\n",
    "\n",
    "\n",
    "def compute(labels, preds):\n",
    "    return { 'accuracy': accuracy_score(labels, preds),\n",
    "            'precision': precision_score(labels, preds),\n",
    "            'recall': recall_score(labels, preds),\n",
    "            'f1_score': f1_score(labels, preds)\n",
    "    }\n",
    "\n",
    "def findMean(data):\n",
    "    _result = {}\n",
    "    for key in data.keys():\n",
    "        val = data[key]\n",
    "        val = np.array(val).astype(np.float32)\n",
    "        mean = np.round(np.mean(val), 3)\n",
    "        std = np.round(np.std(val), 3)\n",
    "        _result[key] = str(mean) + u\" \\u00B1 \" + str(std)\n",
    "    return _result\n",
    "\n",
    "def evaluate(data):\n",
    "    labels = data['label']\n",
    "    preds = data['prediction']\n",
    "\n",
    "    cresult = defaultdict(list)\n",
    "\n",
    "    for seed in range(10):\n",
    "        random.seed(seed)\n",
    "        zlist = list(zip(labels, preds))\n",
    "        random.shuffle(zlist)\n",
    "\n",
    "        val_size = int(0.1 * len(zlist))\n",
    "        val_zlist = zlist[0:val_size]\n",
    "        test_zlist = zlist[val_size:]\n",
    "\n",
    "        vlabels, vpreds = zip(*val_zlist)\n",
    "        tlabels, tpreds = zip(*test_zlist)\n",
    "\n",
    "        precision, recall, threshold = precision_recall_curve(vlabels, vpreds)\n",
    "        f1_scores = 2*recall*precision/(recall+precision + 1e-8)\n",
    "        cutoff = threshold[np.argmax(f1_scores)]\n",
    "\n",
    "        rpreds = 1.0 * np.array([x > cutoff for x in tpreds])\n",
    "        _result = compute(tlabels, rpreds)\n",
    "        _result['auc_roc_score'] = roc_auc_score(tlabels, tpreds)\n",
    "\n",
    "        for key in _result.keys():\n",
    "            cresult[key].append(_result[key])\n",
    "    \n",
    "    return findMean(cresult)\n",
    "\n"
   ]
  },
  {
   "cell_type": "code",
   "execution_count": 51,
   "metadata": {},
   "outputs": [],
   "source": [
    "presults = defaultdict(lambda: defaultdict(dict))\n",
    "\n",
    "for config in configs:\n",
    "    data = pkl.load(open(f\"./results/{config}\", \"rb\"))\n",
    "    config_name = str(config)[:-4]\n",
    "    \n",
    "    for domain in data.keys():\n",
    "        presults[config_name][domain] = evaluate(data[domain])\n"
   ]
  },
  {
   "cell_type": "code",
   "execution_count": 54,
   "metadata": {},
   "outputs": [],
   "source": [
    "data = presults"
   ]
  },
  {
   "cell_type": "code",
   "execution_count": 59,
   "metadata": {},
   "outputs": [],
   "source": [
    "import csv\n",
    "csv_rows = []\n",
    "\n",
    "# Prepare headers\n",
    "headers_main = [\"Category\"]\n",
    "headers_sub = [\"\"]\n",
    "metrics = ['accuracy', 'precision', 'recall', 'f1_score', 'auc_roc_score']\n",
    "\n",
    "for individual in data.keys():\n",
    "    headers_main.append(individual)\n",
    "    headers_main.extend([\"\"]*4)\n",
    "    headers_sub.extend(metrics)\n",
    "\n",
    "csv_rows.append(headers_main)\n",
    "csv_rows.append(headers_sub)\n",
    "\n",
    "# Prepare rows by category\n",
    "categories = list(data['individual_20'].keys())\n",
    "for category in categories:\n",
    "    row = [category]\n",
    "    for individual in data.keys():\n",
    "        for metric in metrics:\n",
    "            row.append(data[individual][category][metric])\n",
    "    csv_rows.append(row)\n",
    "\n",
    "# Write to CSV\n",
    "with open(\"output.csv\", \"w\", newline='') as file:\n",
    "    writer = csv.writer(file)\n",
    "    writer.writerows(csv_rows)\n"
   ]
  }
 ],
 "metadata": {
  "kernelspec": {
   "display_name": "dlt",
   "language": "python",
   "name": "python3"
  },
  "language_info": {
   "codemirror_mode": {
    "name": "ipython",
    "version": 3
   },
   "file_extension": ".py",
   "mimetype": "text/x-python",
   "name": "python",
   "nbconvert_exporter": "python",
   "pygments_lexer": "ipython3",
   "version": "3.10.13"
  },
  "orig_nbformat": 4
 },
 "nbformat": 4,
 "nbformat_minor": 2
}
